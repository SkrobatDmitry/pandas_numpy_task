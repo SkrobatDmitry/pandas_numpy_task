{
 "cells": [
  {
   "cell_type": "markdown",
   "id": "d3df79dd",
   "metadata": {
    "pycharm": {
     "name": "#%% md\n"
    }
   },
   "source": [
    "## Упражнения по библиотеке Numpy"
   ]
  },
  {
   "cell_type": "code",
   "execution_count": 48,
   "id": "76b9c43b",
   "metadata": {
    "pycharm": {
     "name": "#%%\n"
    }
   },
   "outputs": [],
   "source": [
    "import numpy as np"
   ]
  },
  {
   "cell_type": "markdown",
   "id": "03727b7c",
   "metadata": {
    "pycharm": {
     "name": "#%% md\n"
    }
   },
   "source": [
    "**1.** Дан случайный массив, поменять знак у элементов, значения которых между 3 и 8"
   ]
  },
  {
   "cell_type": "code",
   "execution_count": 49,
   "id": "b89a7523",
   "metadata": {
    "pycharm": {
     "name": "#%%\n"
    }
   },
   "outputs": [
    {
     "name": "stdout",
     "output_type": "stream",
     "text": [
      "Initial array:            [-3 -9 -6 -2 -8  4 -2  8 -2 -2]\n",
      "Array after modification: [-3 -9 -6  2  8 -4  2 -8 -2 -2]\n"
     ]
    }
   ],
   "source": [
    "arr = np.random.randint(-9, 10, size=10)\n",
    "print('Initial array:           ', arr)\n",
    "\n",
    "arr[3:8] *= -1\n",
    "print('Array after modification:', arr)"
   ]
  },
  {
   "cell_type": "markdown",
   "id": "5fa4abda",
   "metadata": {
    "pycharm": {
     "name": "#%% md\n"
    }
   },
   "source": [
    "**2.** Заменить максимальный элемент случайного массива на 0"
   ]
  },
  {
   "cell_type": "code",
   "execution_count": 50,
   "id": "f2788a6e",
   "metadata": {
    "pycharm": {
     "name": "#%%\n"
    }
   },
   "outputs": [
    {
     "name": "stdout",
     "output_type": "stream",
     "text": [
      "Initial array:            [ 9  6 -1 -1  9 -1  8 -2  6 -6]\n",
      "Array after modification: [ 0  6 -1 -1  9 -1  8 -2  6 -6]\n"
     ]
    }
   ],
   "source": [
    "arr = np.random.randint(-9, 10, size=10)\n",
    "print('Initial array:           ', arr)\n",
    "\n",
    "arr[arr.argmax()] = 0\n",
    "print('Array after modification:', arr)"
   ]
  },
  {
   "cell_type": "markdown",
   "id": "3cac656b",
   "metadata": {
    "pycharm": {
     "name": "#%% md\n"
    }
   },
   "source": [
    "**3.** Построить прямое произведение массивов (все комбинации с каждым элементом). На вход подается двумерный массив"
   ]
  },
  {
   "cell_type": "code",
   "execution_count": 51,
   "id": "3396b764",
   "metadata": {
    "pycharm": {
     "name": "#%%\n"
    }
   },
   "outputs": [
    {
     "name": "stdout",
     "output_type": "stream",
     "text": [
      "Initial array:\n",
      "[[ 9  0]\n",
      " [-5  0]\n",
      " [ 6  5]]\n",
      "\n",
      "Array after cartesian product:\n",
      "[[ 9 -5  6]\n",
      " [ 9 -5  5]\n",
      " [ 9  0  6]\n",
      " [ 9  0  5]\n",
      " [ 0 -5  6]\n",
      " [ 0 -5  5]\n",
      " [ 0  0  6]\n",
      " [ 0  0  5]]\n"
     ]
    }
   ],
   "source": [
    "def cartesian_product(arrays):\n",
    "    arrays = [np.asarray(array) for array in arrays]\n",
    "    shape = map(len, arrays)\n",
    "\n",
    "    ix = np.indices(shape, dtype=int)\n",
    "    ix = ix.reshape(len(arrays), -1).T\n",
    "\n",
    "    for n, _ in enumerate(arrays):\n",
    "        ix[:, n] = arrays[n][ix[:, n]]\n",
    "\n",
    "    return ix\n",
    "\n",
    "\n",
    "arr = np.random.randint(-9, 10, (3, 2))\n",
    "\n",
    "print(f'Initial array:\\n{arr}\\n')\n",
    "print(f'Array after cartesian product:\\n{cartesian_product(arr)}')"
   ]
  },
  {
   "cell_type": "markdown",
   "id": "674c9354",
   "metadata": {
    "pycharm": {
     "name": "#%% md\n"
    }
   },
   "source": [
    "**4.** Даны 2 массива A (8x3) и B (2x2). Найти строки в A, которые содержат элементы из каждой строки в B, независимо от порядка элементов в B"
   ]
  },
  {
   "cell_type": "code",
   "execution_count": 52,
   "id": "cb664782",
   "metadata": {
    "pycharm": {
     "name": "#%%\n"
    }
   },
   "outputs": [
    {
     "name": "stdout",
     "output_type": "stream",
     "text": [
      "Array A:\n",
      "[[-1  1 -1]\n",
      " [-1  0 -1]\n",
      " [ 1 -1 -1]\n",
      " [-1  1 -1]\n",
      " [ 1  0  0]\n",
      " [-1 -1  1]\n",
      " [ 0  0 -1]\n",
      " [-1  1  0]]\n",
      "\n",
      "Array B:\n",
      "[[-1 -1]\n",
      " [ 1  0]]\n",
      "\n",
      "Rows in A that contain elements from each row in B:\n",
      " [[-1  1  0]]\n"
     ]
    }
   ],
   "source": [
    "a = np.random.randint(-1, 2, size=(8, 3))\n",
    "b = np.random.randint(-1, 2, size=(2, 2))\n",
    "\n",
    "print(f'Array A:\\n{a}\\n')\n",
    "print(f'Array B:\\n{b}\\n')\n",
    "\n",
    "ind = [np.setdiff1d(b[0], i).size == 0 and np.setdiff1d(b[1], i).size == 0 for i in a]\n",
    "print('Rows in A that contain elements from each row in B:\\n', a[ind])"
   ]
  },
  {
   "cell_type": "markdown",
   "id": "fa46533b",
   "metadata": {
    "pycharm": {
     "name": "#%% md\n"
    }
   },
   "source": [
    "**5.** Дана 10x3 матрица, найти строки из неравных значений (например строка [2,2,3] остается, строка [3,3,3] удаляется)"
   ]
  },
  {
   "cell_type": "code",
   "execution_count": 53,
   "id": "fa545b23",
   "metadata": {
    "pycharm": {
     "name": "#%%\n"
    }
   },
   "outputs": [
    {
     "name": "stdout",
     "output_type": "stream",
     "text": [
      "Initial array:\n",
      "[[-1  1 -1]\n",
      " [ 0  0 -1]\n",
      " [ 0  1 -1]\n",
      " [-1  0  0]\n",
      " [-1  1  0]\n",
      " [ 1  0  0]\n",
      " [ 1 -1  1]\n",
      " [-1  0  1]\n",
      " [-1 -1 -1]\n",
      " [ 0 -1 -1]]\n",
      "\n",
      "Rows of unequal values\n",
      "[[-1  1 -1]\n",
      " [ 0  0 -1]\n",
      " [ 0  1 -1]\n",
      " [-1  0  0]\n",
      " [-1  1  0]\n",
      " [ 1  0  0]\n",
      " [ 1 -1  1]\n",
      " [-1  0  1]\n",
      " [ 0 -1 -1]]\n"
     ]
    }
   ],
   "source": [
    "arr = np.random.randint(-1, 2, (10, 3))\n",
    "uniq_ind = [np.unique(i).size != 1 for i in arr]\n",
    "\n",
    "print(f'Initial array:\\n{arr}\\n')\n",
    "print(f'Rows of unequal values\\n{arr[uniq_ind]}')"
   ]
  },
  {
   "cell_type": "markdown",
   "id": "28f0d116",
   "metadata": {
    "pycharm": {
     "name": "#%% md\n"
    }
   },
   "source": [
    "**6.** Дан двумерный массив. Удалить те строки, которые повторяются"
   ]
  },
  {
   "cell_type": "code",
   "execution_count": 54,
   "id": "83d2c0b7",
   "metadata": {
    "pycharm": {
     "name": "#%%\n"
    }
   },
   "outputs": [
    {
     "name": "stdout",
     "output_type": "stream",
     "text": [
      "Initial array:\n",
      "[[ 0  1 -1]\n",
      " [ 0  1  0]\n",
      " [ 0  0  1]\n",
      " [-1 -1 -1]\n",
      " [ 0  0  1]\n",
      " [-1 -1 -1]\n",
      " [-1 -1  0]\n",
      " [-1 -1 -1]\n",
      " [ 0  0  1]\n",
      " [ 0  0  1]]\n",
      "\n",
      "Array after processing:\n",
      "[[ 0  1 -1]\n",
      " [ 0  1  0]\n",
      " [ 0  0  1]\n",
      " [-1 -1 -1]\n",
      " [-1 -1  0]]\n"
     ]
    }
   ],
   "source": [
    "arr = np.random.randint(-1, 2, (10, 3))\n",
    "print(f'Initial array:\\n{arr}\\n')\n",
    "\n",
    "arr, ind = np.unique(arr, axis=0, return_index=True)\n",
    "arr = arr[ind.argsort()]\n",
    "\n",
    "print(f'Array after processing:\\n{arr}')"
   ]
  },
  {
   "cell_type": "markdown",
   "id": "6daa9e37",
   "metadata": {
    "pycharm": {
     "name": "#%% md\n"
    }
   },
   "source": [
    "______\n",
    "______"
   ]
  },
  {
   "cell_type": "markdown",
   "id": "cfbfcaff",
   "metadata": {
    "pycharm": {
     "name": "#%% md\n"
    }
   },
   "source": [
    "Для каждой из следующих задач (1-5) нужно привести 2 реализации – одна без использования numpy (cчитайте, что там, где на входе или выходе должны быть numpy array, будут просто списки), а вторая полностью векторизованная с использованием numpy (без использования питоновских циклов/map/list comprehension).\n",
    "\n",
    "\n",
    "__Замечание 1.__ Можно считать, что все указанные объекты непустые (к примеру, в __задаче 1__ на диагонали матрицы есть ненулевые элементы).\n",
    "\n",
    "__Замечание 2.__ Для большинства задач решение занимает не больше 1-2 строк."
   ]
  },
  {
   "cell_type": "markdown",
   "id": "673cac7f",
   "metadata": {
    "pycharm": {
     "name": "#%% md\n"
    }
   },
   "source": [
    "___"
   ]
  },
  {
   "cell_type": "markdown",
   "id": "ca6f585e",
   "metadata": {
    "pycharm": {
     "name": "#%% md\n"
    }
   },
   "source": [
    "* __Задача 1__: Подсчитать произведение ненулевых элементов на диагонали прямоугольной матрицы.  \n",
    " Например, для X = np.array([[1, 0, 1], [2, 0, 2], [3, 0, 3], [4, 4, 4]]) ответ 3."
   ]
  },
  {
   "cell_type": "code",
   "execution_count": 73,
   "id": "065862fc",
   "metadata": {
    "pycharm": {
     "name": "#%%\n"
    }
   },
   "outputs": [
    {
     "name": "stdout",
     "output_type": "stream",
     "text": [
      "Product of non-zero elements on the diagonal (Python): 3\n",
      "Product of non-zero elements on the diagonal (NumPy): 3\n"
     ]
    }
   ],
   "source": [
    "from functools import reduce\n",
    "\n",
    "\n",
    "x = [[1, 0, 1], [2, 0, 2], [3, 0, 3], [4, 4, 4]]\n",
    "diagonal_product_python = reduce(lambda a, b: a * b, [x[i][i] if x[i][i] != 0 else 1 for i in range(min(len(x), len(x[0])))])\n",
    "\n",
    "x = np.array(x)\n",
    "diagonal_product_numpy = np.prod(x.diagonal(), where=x.diagonal()!=0)\n",
    "\n",
    "print('Product of non-zero elements on the diagonal (Python):', diagonal_product_python)\n",
    "print('Product of non-zero elements on the diagonal (NumPy):', diagonal_product_numpy)"
   ]
  },
  {
   "cell_type": "markdown",
   "id": "9fc51d41",
   "metadata": {
    "pycharm": {
     "name": "#%% md\n"
    }
   },
   "source": [
    "* __Задача 2__: Даны два вектора x и y. Проверить, задают ли они одно и то же мультимножество.  \n",
    "  Например, для x = np.array([1, 2, 2, 4]), y = np.array([4, 2, 1, 2]) ответ True."
   ]
  },
  {
   "cell_type": "code",
   "execution_count": 56,
   "id": "a809e02f",
   "metadata": {
    "pycharm": {
     "name": "#%%\n"
    }
   },
   "outputs": [
    {
     "name": "stdout",
     "output_type": "stream",
     "text": [
      "Do the vectors [1 2 2 4] and [4 2 1 2] define the same multiset (Python): True\n",
      "Do the vectors [1 2 2 4] and [4 2 1 2] define the same multiset (NumPy): True\n"
     ]
    }
   ],
   "source": [
    "from collections import Counter\n",
    "\n",
    "\n",
    "x, y = [1, 2, 2, 4], [4, 2, 1, 2]\n",
    "result_python = Counter(x) == Counter(y)\n",
    "\n",
    "x, y = np.array(x), np.array(y)\n",
    "result_numpy = np.array_equal(np.sort(x), np.sort(y))\n",
    "\n",
    "print(f'Do the vectors {x} and {y} define the same multiset (Python): {result_python}')\n",
    "print(f'Do the vectors {x} and {y} define the same multiset (NumPy): {result_numpy}')"
   ]
  },
  {
   "cell_type": "markdown",
   "id": "b9c185c7",
   "metadata": {
    "pycharm": {
     "name": "#%% md\n"
    }
   },
   "source": [
    "* __Задача 3__: Найти максимальный элемент в векторе x среди элементов, перед которыми стоит ноль. \n",
    " Например, для x = np.array([6, 2, 0, 3, 0, 0, 5, 7, 0]) ответ 5."
   ]
  },
  {
   "cell_type": "code",
   "execution_count": 57,
   "id": "b57df008",
   "metadata": {
    "pycharm": {
     "name": "#%%\n"
    }
   },
   "outputs": [
    {
     "name": "stdout",
     "output_type": "stream",
     "text": [
      "The maximum element in vector [6 2 0 3 0 0 5 7 0] among elements preceded by zero (Python): 5\n",
      "The maximum element in vector [6 2 0 3 0 0 5 7 0] among elements preceded by zero (NumPy): 5\n"
     ]
    }
   ],
   "source": [
    "x = [6, 2, 0, 3, 0, 0, 5, 7, 0]\n",
    "max_python = max([x[i] for i in range(1, len(x)) if x[i - 1] == 0])\n",
    "\n",
    "x = np.array(x)\n",
    "max_numpy = np.max(x[np.where(x[:-1] == 0)[0] + 1])\n",
    "\n",
    "print(f'The maximum element in vector {x} among elements preceded by zero (Python): {max_python}')\n",
    "print(f'The maximum element in vector {x} among elements preceded by zero (NumPy): {max_numpy}')"
   ]
  },
  {
   "cell_type": "markdown",
   "id": "480be4ce",
   "metadata": {
    "pycharm": {
     "name": "#%% md\n"
    }
   },
   "source": [
    "* __Задача 4__: Реализовать кодирование длин серий (Run-length encoding). Для некоторого вектора x необходимо вернуть кортеж из двух векторов одинаковой длины. Первый содержит числа, а второй - сколько раз их нужно повторить.  \n",
    " Например, для x = np.array([2, 2, 2, 3, 3, 3, 5]) ответ (np.array([2, 3, 5]), np.array([3, 3, 1]))."
   ]
  },
  {
   "cell_type": "code",
   "execution_count": 58,
   "id": "3c592124",
   "metadata": {
    "pycharm": {
     "name": "#%%\n"
    }
   },
   "outputs": [
    {
     "name": "stdout",
     "output_type": "stream",
     "text": [
      "Run-length encoding for vector [2 2 2 3 3 3 5] (Python): ([2, 3, 5], [3, 3, 1])\n",
      "Run-length encoding for vector [2 2 2 3 3 3 5] (NumPy): (array([2, 3, 5]), array([3, 3, 1], dtype=int64))\n"
     ]
    }
   ],
   "source": [
    "x = [2, 2, 2, 3, 3, 3, 5]\n",
    "run_length_encoding_python = list(set(x)), [x.count(i) for i in set(x)]\n",
    "\n",
    "x = np.array(x)\n",
    "run_length_encoding_numpy = np.unique(x, return_counts=True)\n",
    "\n",
    "print(f'Run-length encoding for vector {x} (Python): {run_length_encoding_python}')\n",
    "print(f'Run-length encoding for vector {x} (NumPy): {run_length_encoding_numpy}')"
   ]
  },
  {
   "cell_type": "markdown",
   "id": "077532ec",
   "metadata": {
    "pycharm": {
     "name": "#%% md\n"
    }
   },
   "source": [
    "* __Задача 5__: Даны две выборки объектов - X и Y. Вычислить матрицу евклидовых расстояний между объектами. Сравните с функцией scipy.spatial.distance.cdist по скорости работы."
   ]
  },
  {
   "cell_type": "code",
   "execution_count": 59,
   "id": "1e807797",
   "metadata": {
    "pycharm": {
     "name": "#%%\n"
    }
   },
   "outputs": [
    {
     "name": "stdout",
     "output_type": "stream",
     "text": [
      "Matrix of euclidean distances between objects (Python):\n",
      "[[10.81665383  2.23606798  7.07106781  5.38516481  9.43398113]\n",
      " [15.65247584 15.65247584  8.         11.          5.        ]\n",
      " [15.29705854  8.94427191  2.23606798  1.41421356  5.09901951]\n",
      " [ 7.28010989 16.64331698 17.88854382 19.41648784 16.76305461]\n",
      " [17.         17.          9.05538514 12.04159458  6.08276253]]\n",
      "\n",
      "Matrix of euclidean distances between objects (NumPy):\n",
      "[[10.81665383  2.23606798  7.07106781  5.38516481  9.43398113]\n",
      " [15.65247584 15.65247584  8.         11.          5.        ]\n",
      " [15.29705854  8.94427191  2.23606798  1.41421356  5.09901951]\n",
      " [ 7.28010989 16.64331698 17.88854382 19.41648784 16.76305461]\n",
      " [17.         17.          9.05538514 12.04159458  6.08276253]]\n"
     ]
    }
   ],
   "source": [
    "from scipy.spatial import distance\n",
    "\n",
    "\n",
    "def euclidean_numpy(x, y):\n",
    "    return np.sqrt(np.abs(np.add.outer(np.sum(x ** 2, axis=1), np.sum(y ** 2, axis=1)) - 2 * np.dot(x, y.T)))\n",
    "\n",
    "\n",
    "def euclidean_python(x, y):\n",
    "    return distance.cdist(x, y, 'euclidean')\n",
    "\n",
    "\n",
    "x = np.random.randint(-9, 10, (5, 2))\n",
    "y = np.random.randint(-9, 10, (5, 2))\n",
    "euclidean_distances_numpy = euclidean_numpy(x, y)\n",
    "\n",
    "x = x.tolist()\n",
    "y = y.tolist()\n",
    "euclidean_distances_python = euclidean_python(x, y)\n",
    "\n",
    "print(f'Matrix of euclidean distances between objects (Python):\\n{euclidean_distances_python}\\n')\n",
    "print(f'Matrix of euclidean distances between objects (NumPy):\\n{euclidean_distances_numpy}')"
   ]
  },
  {
   "cell_type": "code",
   "execution_count": 60,
   "outputs": [],
   "source": [
    "import time\n",
    "\n",
    "\n",
    "def time_of_func(func):\n",
    "    def wrapped(*args, **kwargs):\n",
    "        start = time.perf_counter_ns()\n",
    "        func(*args, **kwargs)\n",
    "        return time.perf_counter_ns() - start\n",
    "    return wrapped"
   ],
   "metadata": {
    "collapsed": false,
    "pycharm": {
     "name": "#%%\n"
    }
   }
  },
  {
   "cell_type": "code",
   "execution_count": 71,
   "outputs": [
    {
     "data": {
      "text/plain": "<function matplotlib.pyplot.show(close=None, block=None)>"
     },
     "execution_count": 71,
     "metadata": {},
     "output_type": "execute_result"
    },
    {
     "data": {
      "text/plain": "<Figure size 432x288 with 1 Axes>",
      "image/png": "[encoded data removed]"
     },
     "metadata": {
      "needs_background": "light"
     },
     "output_type": "display_data"
    }
   ],
   "source": [
    "from statistics import mean\n",
    "import matplotlib.pyplot as plt\n",
    "\n",
    "\n",
    "def get_time(func, *args, rep_num=100):\n",
    "    return mean([func(*args) for _ in range(rep_num)])\n",
    "\n",
    "\n",
    "values = [value for value in range(10000, 1000000, 10000)]\n",
    "x_list = [np.random.randint(-value, value, (100, 100), dtype=np.intp) for value in values]\n",
    "y_list = [np.random.randint(-value, value, (1000, 100), dtype=np.intp) for value in values]\n",
    "\n",
    "scipy_time = [get_time(time_of_func(euclidean_python), x.tolist(), y.tolist()) for x, y in zip(x_list, y_list)]\n",
    "numpy_time = [get_time(time_of_func(euclidean_numpy), x, y)  for x, y in zip(x_list, y_list)]\n",
    "\n",
    "plt.title('Difference in time')\n",
    "plt.xlabel('Min/Max values')\n",
    "plt.ylabel('Nanoseconds')\n",
    "plt.grid(which='major')\n",
    "plt.grid(which='minor', linestyle=':')\n",
    "plt.plot(values, scipy_time, label='SciPy')\n",
    "plt.plot(values, numpy_time, label='NumPy')\n",
    "plt.legend()\n",
    "plt.show"
   ],
   "metadata": {
    "collapsed": false,
    "pycharm": {
     "name": "#%%\n"
    }
   }
  },
  {
   "cell_type": "markdown",
   "id": "973e8064",
   "metadata": {
    "pycharm": {
     "name": "#%% md\n"
    }
   },
   "source": []
  },
  {
   "cell_type": "markdown",
   "id": "1104acb7",
   "metadata": {
    "pycharm": {
     "name": "#%% md\n"
    }
   },
   "source": [
    "* #### __Задача 6__: CrunchieMunchies __*__\n",
    "\n",
    "Вы работаете в отделе маркетинга пищевой компании MyCrunch, которая разрабатывает новый вид вкусных, полезных злаков под названием **CrunchieMunchies**.\n",
    "\n",
    "Вы хотите продемонстрировать потребителям, насколько полезны ваши хлопья по сравнению с другими ведущими брендами, поэтому вы собрали данные о питании нескольких разных конкурентов.\n",
    "\n",
    "Ваша задача - использовать вычисления Numpy для анализа этих данных и доказать, что ваши **СrunchieMunchies** - самый здоровый выбор для потребителей.\n"
   ]
  },
  {
   "cell_type": "code",
   "execution_count": 62,
   "id": "10a77f8d",
   "metadata": {
    "pycharm": {
     "name": "#%%\n"
    }
   },
   "outputs": [],
   "source": [
    "import numpy as np"
   ]
  },
  {
   "cell_type": "markdown",
   "id": "ab87cb03",
   "metadata": {
    "pycharm": {
     "name": "#%% md\n"
    }
   },
   "source": [
    "1. Просмотрите файл cereal.csv. Этот файл содержит количества калорий для различных марок хлопьев. Загрузите данные из файла и сохраните их как calorie_stats."
   ]
  },
  {
   "cell_type": "code",
   "execution_count": 63,
   "id": "9681ebf2",
   "metadata": {
    "pycharm": {
     "name": "#%%\n"
    }
   },
   "outputs": [
    {
     "data": {
      "text/plain": "array([ 70., 120.,  70.,  50., 110., 110., 110., 130.,  90.,  90., 120.,\n       110., 120., 110., 110., 110., 100., 110., 110., 110., 100., 110.,\n       100., 100., 110., 110., 100., 120., 120., 110., 100., 110., 100.,\n       110., 120., 120., 110., 110., 110., 140., 110., 100., 110., 100.,\n       150., 150., 160., 100., 120., 140.,  90., 130., 120., 100.,  50.,\n        50., 100., 100., 120., 100.,  90., 110., 110.,  80.,  90.,  90.,\n       110., 110.,  90., 110., 140., 100., 110., 110., 100., 100., 110.])"
     },
     "execution_count": 63,
     "metadata": {},
     "output_type": "execute_result"
    }
   ],
   "source": [
    "calorie_stats = np.loadtxt(\"./data/cereal.csv\", delimiter=\",\")\n",
    "calorie_stats"
   ]
  },
  {
   "cell_type": "markdown",
   "id": "139cfbd8",
   "metadata": {
    "pycharm": {
     "name": "#%% md\n"
    }
   },
   "source": [
    "2. В одной порции CrunchieMunchies содержится 60 калорий. Насколько выше среднее количество калорий у ваших конкурентов?\n",
    "\n",
    "Сохраните ответ в переменной average_calories и распечатайте переменную в терминале"
   ]
  },
  {
   "cell_type": "code",
   "execution_count": 64,
   "id": "7036d240",
   "metadata": {
    "pycharm": {
     "name": "#%%\n"
    }
   },
   "outputs": [
    {
     "name": "stdout",
     "output_type": "stream",
     "text": [
      "The average number of calories your competitors have is 46.883116883116884 higher\n"
     ]
    }
   ],
   "source": [
    "crunchie_calories = 60\n",
    "avgerage_calories = np.mean(calorie_stats) - crunchie_calories\n",
    "\n",
    "print(f'The average number of calories your competitors have is {avgerage_calories} higher')"
   ]
  },
  {
   "cell_type": "markdown",
   "id": "b2ddb4cd",
   "metadata": {
    "pycharm": {
     "name": "#%% md\n"
    }
   },
   "source": [
    "3. Корректно ли среднее количество калорий отражает распределение набора данных? Давайте отсортируем данные и посмотрим.\n",
    "\n",
    "Отсортируйте данные и сохраните результат в переменной calorie_stats_sorted. Распечатайте отсортированную информацию"
   ]
  },
  {
   "cell_type": "code",
   "execution_count": 65,
   "id": "46eeb4ed",
   "metadata": {
    "pycharm": {
     "name": "#%%\n"
    }
   },
   "outputs": [
    {
     "data": {
      "text/plain": "array([ 50.,  50.,  50.,  70.,  70.,  80.,  90.,  90.,  90.,  90.,  90.,\n        90.,  90., 100., 100., 100., 100., 100., 100., 100., 100., 100.,\n       100., 100., 100., 100., 100., 100., 100., 100., 110., 110., 110.,\n       110., 110., 110., 110., 110., 110., 110., 110., 110., 110., 110.,\n       110., 110., 110., 110., 110., 110., 110., 110., 110., 110., 110.,\n       110., 110., 110., 110., 120., 120., 120., 120., 120., 120., 120.,\n       120., 120., 120., 130., 130., 140., 140., 140., 150., 150., 160.])"
     },
     "execution_count": 65,
     "metadata": {},
     "output_type": "execute_result"
    }
   ],
   "source": [
    "calorie_stats_sorted = np.sort(calorie_stats)\n",
    "calorie_stats_sorted"
   ]
  },
  {
   "cell_type": "markdown",
   "id": "4dc74116",
   "metadata": {
    "pycharm": {
     "name": "#%% md\n"
    }
   },
   "source": [
    "4. Похоже, что большинство значений выше среднего. Давайте посмотрим, является ли медиана наиболее корректным показателем набора данных.\n",
    "\n",
    "Вычислите медиану набора данных и сохраните свой ответ в median_calories. Выведите медиану, чтобы вы могли видеть, как она сравнивается со средним значением."
   ]
  },
  {
   "cell_type": "code",
   "execution_count": 66,
   "id": "b56627c3",
   "metadata": {
    "pycharm": {
     "name": "#%%\n"
    }
   },
   "outputs": [
    {
     "name": "stdout",
     "output_type": "stream",
     "text": [
      "Median of the data set: 110.0\n"
     ]
    }
   ],
   "source": [
    "median_calories = np.median(calorie_stats_sorted)\n",
    "print('Median of the data set:', median_calories)"
   ]
  },
  {
   "cell_type": "markdown",
   "id": "a63ab72f",
   "metadata": {
    "pycharm": {
     "name": "#%% md\n"
    }
   },
   "source": [
    "5. В то время как медиана показывает, что по крайней мере половина наших значений составляет более 100 калорий, было бы более впечатляюще показать, что значительная часть конкурентов имеет более высокое количество калорий, чем CrunchieMunchies.\n",
    "\n",
    "Рассчитайте различные процентили и распечатайте их, пока не найдете наименьший процентиль, превышающий 60 калорий. Сохраните это значение в переменной nth_percentile."
   ]
  },
  {
   "cell_type": "code",
   "execution_count": 72,
   "id": "fe80ce03",
   "metadata": {
    "pycharm": {
     "name": "#%%\n"
    }
   },
   "outputs": [
    {
     "name": "stdout",
     "output_type": "stream",
     "text": [
      "The lowest percentile exceeding 60 calories: 3.289999999999974\n"
     ]
    },
    {
     "data": {
      "text/plain": "[(0.01, 50.0),\n (0.02, 50.0),\n (0.03, 50.0),\n (0.04, 50.0),\n (0.05, 50.0),\n (0.06, 50.0),\n (0.07, 50.0),\n (0.08, 50.0),\n (0.09, 50.0),\n (0.1, 50.0),\n (0.11, 50.0),\n (0.12, 50.0),\n (0.13, 50.0),\n (0.14, 50.0),\n (0.15, 50.0),\n (0.16, 50.0),\n (0.17, 50.0),\n (0.18, 50.0),\n (0.19, 50.0),\n (0.2, 50.0),\n (0.21, 50.0),\n (0.22, 50.0),\n (0.23, 50.0),\n (0.24, 50.0),\n (0.25, 50.0),\n (0.26, 50.0),\n (0.27, 50.0),\n (0.28, 50.0),\n (0.29, 50.0),\n (0.3, 50.0),\n (0.31, 50.0),\n (0.32, 50.0),\n (0.33, 50.0),\n (0.34, 50.0),\n (0.35, 50.0),\n (0.36, 50.0),\n (0.37, 50.0),\n (0.38, 50.0),\n (0.39, 50.0),\n (0.4, 50.0),\n (0.41, 50.0),\n (0.42, 50.0),\n (0.43, 50.0),\n (0.44, 50.0),\n (0.45, 50.0),\n (0.46, 50.0),\n (0.47, 50.0),\n (0.48, 50.0),\n (0.49, 50.0),\n (0.5, 50.0),\n (0.51, 50.0),\n (0.52, 50.0),\n (0.53, 50.0),\n (0.54, 50.0),\n (0.55, 50.0),\n (0.56, 50.0),\n (0.57, 50.0),\n (0.58, 50.0),\n (0.59, 50.0),\n (0.6, 50.0),\n (0.61, 50.0),\n (0.62, 50.0),\n (0.63, 50.0),\n (0.64, 50.0),\n (0.65, 50.0),\n (0.66, 50.0),\n (0.67, 50.0),\n (0.68, 50.0),\n (0.69, 50.0),\n (0.7, 50.0),\n (0.71, 50.0),\n (0.72, 50.0),\n (0.73, 50.0),\n (0.74, 50.0),\n (0.75, 50.0),\n (0.76, 50.0),\n (0.77, 50.0),\n (0.78, 50.0),\n (0.79, 50.0),\n (0.8, 50.0),\n (0.81, 50.0),\n (0.82, 50.0),\n (0.83, 50.0),\n (0.84, 50.0),\n (0.85, 50.0),\n (0.86, 50.0),\n (0.87, 50.0),\n (0.88, 50.0),\n (0.89, 50.0),\n (0.9, 50.0),\n (0.91, 50.0),\n (0.92, 50.0),\n (0.93, 50.0),\n (0.94, 50.0),\n (0.95, 50.0),\n (0.96, 50.0),\n (0.97, 50.0),\n (0.98, 50.0),\n (0.99, 50.0),\n (1.0, 50.0),\n (1.01, 50.0),\n (1.02, 50.0),\n (1.03, 50.0),\n (1.04, 50.0),\n (1.05, 50.0),\n (1.06, 50.0),\n (1.07, 50.0),\n (1.08, 50.0),\n (1.09, 50.0),\n (1.1, 50.0),\n (1.11, 50.0),\n (1.12, 50.0),\n (1.13, 50.0),\n (1.14, 50.0),\n (1.15, 50.0),\n (1.16, 50.0),\n (1.17, 50.0),\n (1.18, 50.0),\n (1.19, 50.0),\n (1.2, 50.0),\n (1.21, 50.0),\n (1.22, 50.0),\n (1.23, 50.0),\n (1.24, 50.0),\n (1.25, 50.0),\n (1.26, 50.0),\n (1.27, 50.0),\n (1.28, 50.0),\n (1.29, 50.0),\n (1.3, 50.0),\n (1.31, 50.0),\n (1.32, 50.0),\n (1.33, 50.0),\n (1.34, 50.0),\n (1.35, 50.0),\n (1.36, 50.0),\n (1.37, 50.0),\n (1.38, 50.0),\n (1.39, 50.0),\n (1.4, 50.0),\n (1.41, 50.0),\n (1.42, 50.0),\n (1.43, 50.0),\n (1.44, 50.0),\n (1.45, 50.0),\n (1.46, 50.0),\n (1.47, 50.0),\n (1.48, 50.0),\n (1.49, 50.0),\n (1.5, 50.0),\n (1.51, 50.0),\n (1.52, 50.0),\n (1.53, 50.0),\n (1.54, 50.0),\n (1.55, 50.0),\n (1.56, 50.0),\n (1.57, 50.0),\n (1.58, 50.0),\n (1.59, 50.0),\n (1.6, 50.0),\n (1.61, 50.0),\n (1.62, 50.0),\n (1.63, 50.0),\n (1.64, 50.0),\n (1.65, 50.0),\n (1.66, 50.0),\n (1.67, 50.0),\n (1.68, 50.0),\n (1.69, 50.0),\n (1.7, 50.0),\n (1.71, 50.0),\n (1.72, 50.0),\n (1.73, 50.0),\n (1.74, 50.0),\n (1.75, 50.0),\n (1.76, 50.0),\n (1.77, 50.0),\n (1.78, 50.0),\n (1.79, 50.0),\n (1.8, 50.0),\n (1.81, 50.0),\n (1.82, 50.0),\n (1.83, 50.0),\n (1.84, 50.0),\n (1.85, 50.0),\n (1.86, 50.0),\n (1.87, 50.0),\n (1.88, 50.0),\n (1.89, 50.0),\n (1.9, 50.0),\n (1.91, 50.0),\n (1.92, 50.0),\n (1.93, 50.0),\n (1.94, 50.0),\n (1.95, 50.0),\n (1.96, 50.0),\n (1.97, 50.0),\n (1.98, 50.0),\n (1.99, 50.0),\n (2.0, 50.0),\n (2.01, 50.0),\n (2.02, 50.0),\n (2.03, 50.0),\n (2.04, 50.0),\n (2.05, 50.0),\n (2.06, 50.0),\n (2.07, 50.0),\n (2.08, 50.0),\n (2.09, 50.0),\n (2.1, 50.0),\n (2.11, 50.0),\n (2.12, 50.0),\n (2.13, 50.0),\n (2.14, 50.0),\n (2.15, 50.0),\n (2.16, 50.0),\n (2.17, 50.0),\n (2.18, 50.0),\n (2.19, 50.0),\n (2.2, 50.0),\n (2.21, 50.0),\n (2.22, 50.0),\n (2.23, 50.0),\n (2.24, 50.0),\n (2.25, 50.0),\n (2.26, 50.0),\n (2.27, 50.0),\n (2.28, 50.0),\n (2.29, 50.0),\n (2.3, 50.0),\n (2.31, 50.0),\n (2.32, 50.0),\n (2.33, 50.0),\n (2.34, 50.0),\n (2.35, 50.0),\n (2.36, 50.0),\n (2.37, 50.0),\n (2.38, 50.0),\n (2.39, 50.0),\n (2.4, 50.0),\n (2.41, 50.0),\n (2.42, 50.0),\n (2.43, 50.0),\n (2.44, 50.0),\n (2.45, 50.0),\n (2.46, 50.0),\n (2.47, 50.0),\n (2.48, 50.0),\n (2.49, 50.0),\n (2.5, 50.0),\n (2.51, 50.0),\n (2.52, 50.0),\n (2.53, 50.0),\n (2.54, 50.0),\n (2.55, 50.0),\n (2.56, 50.0),\n (2.57, 50.0),\n (2.58, 50.0),\n (2.59, 50.0),\n (2.6, 50.0),\n (2.61, 50.0),\n (2.62, 50.0),\n (2.63, 50.0),\n (2.64, 50.127999999999815),\n (2.65, 50.27999999999981),\n (2.66, 50.43199999999981),\n (2.67, 50.583999999999804),\n (2.68, 50.735999999999805),\n (2.69, 50.88799999999979),\n (2.7, 51.03999999999979),\n (2.71, 51.19199999999979),\n (2.72, 51.34399999999979),\n (2.73, 51.49599999999978),\n (2.74, 51.64799999999978),\n (2.75, 51.79999999999978),\n (2.76, 51.95199999999978),\n (2.77, 52.10399999999977),\n (2.78, 52.25599999999977),\n (2.79, 52.40799999999976),\n (2.8, 52.55999999999976),\n (2.81, 52.711999999999755),\n (2.82, 52.863999999999756),\n (2.83, 53.01599999999975),\n (2.84, 53.16799999999975),\n (2.85, 53.31999999999974),\n (2.86, 53.47199999999974),\n (2.87, 53.62399999999973),\n (2.88, 53.77599999999973),\n (2.89, 53.927999999999734),\n (2.9, 54.07999999999973),\n (2.91, 54.23199999999973),\n (2.92, 54.38399999999972),\n (2.93, 54.535999999999724),\n (2.94, 54.68799999999972),\n (2.95, 54.83999999999972),\n (2.96, 54.991999999999706),\n (2.97, 55.14399999999971),\n (2.98, 55.2959999999997),\n (2.99, 55.4479999999997),\n (3.0, 55.599999999999696),\n (3.01, 55.7519999999997),\n (3.02, 55.903999999999684),\n (3.03, 56.055999999999685),\n (3.04, 56.20799999999968),\n (3.05, 56.35999999999968),\n (3.06, 56.511999999999674),\n (3.07, 56.663999999999675),\n (3.08, 56.81599999999967),\n (3.09, 56.96799999999967),\n (3.1, 57.11999999999966),\n (3.11, 57.271999999999665),\n (3.12, 57.42399999999965),\n (3.13, 57.57599999999965),\n (3.14, 57.727999999999646),\n (3.15, 57.879999999999654),\n (3.16, 58.03199999999965),\n (3.17, 58.18399999999964),\n (3.18, 58.33599999999963),\n (3.19, 58.48799999999963),\n (3.2, 58.63999999999963),\n (3.21, 58.791999999999625),\n (3.22, 58.943999999999626),\n (3.23, 59.09599999999962),\n (3.24, 59.24799999999962),\n (3.25, 59.399999999999615),\n (3.26, 59.551999999999616),\n (3.27, 59.70399999999961),\n (3.28, 59.85599999999961),\n (3.29, 60.0079999999996)]"
     },
     "execution_count": 72,
     "metadata": {},
     "output_type": "execute_result"
    }
   ],
   "source": [
    "nth_percentile, percentiles_list= .0, []\n",
    "while np.percentile(calorie_stats, nth_percentile) <= 60:\n",
    "    nth_percentile += 0.01\n",
    "    percentiles_list.append((round(nth_percentile, 3), np.percentile(calorie_stats, nth_percentile)))\n",
    "\n",
    "print('The lowest percentile exceeding 60 calories:', nth_percentile)\n",
    "percentiles_list"
   ]
  },
  {
   "cell_type": "markdown",
   "id": "a2a3c5aa",
   "metadata": {
    "pycharm": {
     "name": "#%% md\n"
    }
   },
   "source": [
    "6. Хотя процентиль показывает нам, что у большинства конкурентов количество калорий намного выше, это неудобная концепция для использования в маркетинговых материалах.\n",
    "\n",
    "Вместо этого давайте подсчитаем процент хлопьев, в которых содержится более 60 калорий на порцию. Сохраните свой ответ в переменной more_calories и распечатайте его"
   ]
  },
  {
   "cell_type": "code",
   "execution_count": 68,
   "id": "ade0f6ea",
   "metadata": {
    "pycharm": {
     "name": "#%%\n"
    }
   },
   "outputs": [
    {
     "name": "stdout",
     "output_type": "stream",
     "text": [
      "Percentage of flakes that contain more than 60 calories per serving is 0.961038961038961 percent\n"
     ]
    }
   ],
   "source": [
    "more_calories = len(calorie_stats[calorie_stats_sorted > 60]) / len(calorie_stats_sorted)\n",
    "print(f'Percentage of flakes that contain more than 60 calories per serving is {more_calories} percent')"
   ]
  },
  {
   "cell_type": "markdown",
   "id": "1735d65b",
   "metadata": {
    "pycharm": {
     "name": "#%% md\n"
    }
   },
   "source": [
    "7. Это действительно высокий процент. Это будет очень полезно, когда мы будем продвигать CrunchieMunchies. Но один вопрос заключается в том, насколько велики различия в наборе данных? Можем ли мы сделать обобщение, что в большинстве злаков содержится около 100 калорий или разброс еще больше?\n",
    "\n",
    "Рассчитайте величину отклонения, найдя стандартное отклонение, Сохраните свой ответ в calorie_std и распечатайте на терминале. Как мы можем включить эту ценность в наш анализ?"
   ]
  },
  {
   "cell_type": "code",
   "execution_count": 69,
   "id": "85c8df1f",
   "metadata": {
    "pycharm": {
     "name": "#%%\n"
    }
   },
   "outputs": [
    {
     "name": "stdout",
     "output_type": "stream",
     "text": [
      "The standard deviation is 19.35718533390827\n"
     ]
    }
   ],
   "source": [
    "calorie_std = np.std(calorie_stats)\n",
    "print('The standard deviation is', calorie_std)"
   ]
  },
  {
   "cell_type": "markdown",
   "source": [
    "Так как стандартное отклонение равно почти 20 всего лишь при размере выборки равной 77, то можно сказать, что стандартное отклонение является высоким. Высокое стандартное отклонение показывает, что данные широко разбросаны (менее надежны). Следовательно, нельзя полностью доверять данной выборке, и следовало бы увеличить её."
   ],
   "metadata": {
    "collapsed": false,
    "pycharm": {
     "name": "#%% md\n"
    }
   }
  },
  {
   "cell_type": "markdown",
   "id": "037455c5",
   "metadata": {
    "pycharm": {
     "name": "#%% md\n"
    }
   },
   "source": [
    "8. Напишите короткий абзац, в котором кратко изложите свои выводы и то, как, по вашему мнению, эти данные могут быть использованы в интересах Mycrunch при маркетинге CrunchieMunchies."
   ]
  },
  {
   "cell_type": "markdown",
   "source": [
    "В среднем колличество калорий в CrunchieMunchies меньше, чем у конкурентов на 46 кКал, однако эти цифры мало о чём говорят (может в выборке присутствует вид хлопьев с огромным колличеством кКал, т.е. выброс для данной выборки).\n",
    "\n",
    "Медиана и процентиль так же говорят, что как минимум половина хлопьев конкурентов содаржат в себе на 50 кКал больше, чем CrunchieMunchies и что CrunchieMunchies являются почти что лучшими (в плане калорийности). Однако, как было сказано выше, это неудобная концепция для использования в маркетинговых целях.\n",
    "\n",
    "Для маркетинга идеально было бы идеально использовать слоганы: \"Хлопья CrunchieMunchies менее калорийны 96% других хлопьев\" или \"В хлопьях CrunchieMunchies на 44% меньше калорий, чем в других хлопьях\"."
   ],
   "metadata": {
    "collapsed": false,
    "pycharm": {
     "name": "#%% md\n"
    }
   }
  },
  {
   "cell_type": "code",
   "execution_count": 69,
   "outputs": [],
   "source": [],
   "metadata": {
    "collapsed": false,
    "pycharm": {
     "name": "#%%\n"
    }
   }
  }
 ],
 "metadata": {
  "kernelspec": {
   "display_name": "Python 3 (ipykernel)",
   "language": "python",
   "name": "python3"
  },
  "language_info": {
   "codemirror_mode": {
    "name": "ipython",
    "version": 3
   },
   "file_extension": ".py",
   "mimetype": "text/x-python",
   "name": "python",
   "nbconvert_exporter": "python",
   "pygments_lexer": "ipython3",
   "version": "3.8.10"
  }
 },
 "nbformat": 4,
 "nbformat_minor": 5
}